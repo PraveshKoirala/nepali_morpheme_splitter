{
 "cells": [
  {
   "cell_type": "markdown",
   "metadata": {},
   "source": [
    "# Morpheme separation in Nepali words\n",
    "\n",
    "Nepali words are composed of various morphemes which can be broadly divided into two categories: Vowels and Consonants. A given word can be resolved into its morphemes by some elementary rules. While these rules are relatively straightforward, the unicode representation make it a little bit non-trivial to work with. Consider these scenarios:\n",
    "\n",
    "- क is actually a single character in Unicode, while it is two morphemes, क् + अ in Nepali.\n",
    "- क + ् in Unicode representation translates to क्, a single morpheme in Nepali.\n",
    "- क + ि in Unicode representation translates to क् + इ in Nepali.\n",
    "\n",
    "In this script, we define rules for the separation of morphemes in Nepali Unicode representation. This shall serve as a building block as we later construct systems for separating syllables from multi-syllables words in Nepali.\n"
   ]
  },
  {
   "cell_type": "code",
   "execution_count": 7,
   "metadata": {
    "collapsed": false
   },
   "outputs": [],
   "source": [
    "from __future__ import unicode_literals\n",
    "import re\n",
    "from ipy_table import *"
   ]
  },
  {
   "cell_type": "code",
   "execution_count": 8,
   "metadata": {
    "collapsed": false
   },
   "outputs": [],
   "source": [
    "#Dependent vowels, Independent vowels and amm and ahh\n",
    "vowel = ur\"[\\u0904-\\u0914\\u093A-\\u094C\\u0902\\u0903]\"\n",
    "\n",
    "def is_vowel(v):\n",
    "    return bool(re.match(vowel, v))"
   ]
  },
  {
   "cell_type": "code",
   "execution_count": 9,
   "metadata": {
    "collapsed": false
   },
   "outputs": [],
   "source": [
    "consonant = r\"[\\u0915-\\u0939]\"\n",
    "halant = u\"्\"\n",
    "\n",
    "def is_consonant(c):\n",
    "    return bool(re.match(consonant, c))\n",
    "\n",
    "is_halant = lambda k: k == halant"
   ]
  },
  {
   "cell_type": "markdown",
   "metadata": {},
   "source": [
    "# Rules\n",
    "\n",
    "The rules are fairly straightforward:\n",
    "\n",
    "- If any character is a vowel, leave it as it is\n",
    "- If any character is a single unicode consonant क - ह\t\n",
    "  - If next character is a halanta u(्), the previous character is a single morpheme.\n",
    "  - If next character is a vowel, the previous character as well as this vowel make two morphemes (क् + ि).\n",
    "  - If next character is a consonant or the next character is non-existent, the previous character as well as this character make two morpheme, where the latter is the independent vowel अ."
   ]
  },
  {
   "cell_type": "code",
   "execution_count": 25,
   "metadata": {
    "collapsed": false
   },
   "outputs": [],
   "source": [
    "def separate_morphemes(word):\n",
    "    morphemes = []\n",
    "    l = len(word)\n",
    "    i = 0\n",
    "#     for w in word:\n",
    "#         print w\n",
    "    while i < l:\n",
    "        \n",
    "        w = word[i]\n",
    "        if is_vowel(w):\n",
    "            morphemes.append((w, \"V\"))\n",
    "            i += 1\n",
    "            continue\n",
    "        if is_consonant(w):\n",
    "            # next one halant ?\n",
    "            if i<l-1 and is_halant(word[i+1]):\n",
    "                morphemes.append((word[i]+halant, \"C\"))\n",
    "                i += 1\n",
    "            # next one vowel or consonant?\n",
    "            else:\n",
    "                morphemes.append((word[i]+halant, \"C\"))\n",
    "                if i<l-1 and is_consonant(word[i+1]) or i==l-1:\n",
    "                    morphemes.append((\"अ\", \"V\"))\n",
    "        i = i+1\n",
    "    return morphemes"
   ]
  },
  {
   "cell_type": "code",
   "execution_count": 11,
   "metadata": {
    "collapsed": false
   },
   "outputs": [
    {
     "name": "stdout",
     "output_type": "stream",
     "text": [
      "आ\n",
      "ऐ\n"
     ]
    }
   ],
   "source": [
    "# helper function to translate dependent vowels into independent\n",
    "def to_independent_vowel(v):\n",
    "    if re.match(\"[\\u093A-\\u094C]\", v):\n",
    "        return unichr(ord(v)-0x093E+0x0906)\n",
    "    return v\n",
    "\n",
    "print to_independent_vowel(u\"ा\")\n",
    "print to_independent_vowel(u\"ै\")\n"
   ]
  },
  {
   "cell_type": "code",
   "execution_count": 26,
   "metadata": {
    "collapsed": false
   },
   "outputs": [
    {
     "name": "stdout",
     "output_type": "stream",
     "text": [
      "व\n",
      "ि\n",
      "द\n",
      "्\n",
      "य\n",
      "ा\n",
      "र\n",
      "्\n",
      "थ\n",
      "ी\n"
     ]
    },
    {
     "data": {
      "text/html": [
       "<table border=\"1\" cellpadding=\"3\" cellspacing=\"0\"  style=\"border:1px solid black;border-collapse:collapse;\"><tr><td  style=\"background-color:LightGray;\"><b>Nepali&nbspLiteral</b></td><td  style=\"background-color:LightGray;\"><b>Vowel&nbsp/&nbspConsonant</b></td></tr><tr><td  style=\"background-color:Ivory;\">व्</td><td  style=\"background-color:Ivory;\">C</td></tr><tr><td  style=\"background-color:AliceBlue;\">इ</td><td  style=\"background-color:AliceBlue;\">V</td></tr><tr><td  style=\"background-color:Ivory;\">द्</td><td  style=\"background-color:Ivory;\">C</td></tr><tr><td  style=\"background-color:AliceBlue;\">य्</td><td  style=\"background-color:AliceBlue;\">C</td></tr><tr><td  style=\"background-color:Ivory;\">आ</td><td  style=\"background-color:Ivory;\">V</td></tr><tr><td  style=\"background-color:AliceBlue;\">र्</td><td  style=\"background-color:AliceBlue;\">C</td></tr><tr><td  style=\"background-color:Ivory;\">थ्</td><td  style=\"background-color:Ivory;\">C</td></tr><tr><td  style=\"background-color:AliceBlue;\">ई</td><td  style=\"background-color:AliceBlue;\">V</td></tr></table>"
      ],
      "text/plain": [
       "<ipy_table.IpyTable at 0x7f8b540d6bd0>"
      ]
     },
     "execution_count": 26,
     "metadata": {},
     "output_type": "execute_result"
    }
   ],
   "source": [
    "def break_words(word):\n",
    "    morphemes = separate_morphemes(word)\n",
    "    morphemes = [(u\"Nepali Literal\", u\"Vowel / Consonant\")] + [(w.encode('utf-8'), v) if v == \"C\" else \n",
    "                                                               (to_independent_vowel(w).encode('utf-8'), v)\n",
    "                                                               for w,v in morphemes]\n",
    "    return morphemes\n",
    "\n",
    "\n",
    "    \n",
    "\n",
    "word = \"विद्यार्थी\"\n",
    "morphemes = break_words(word)\n",
    "make_table(morphemes)\n",
    "apply_theme(\"basic\")"
   ]
  },
  {
   "cell_type": "code",
   "execution_count": 13,
   "metadata": {
    "collapsed": false
   },
   "outputs": [
    {
     "data": {
      "text/html": [
       "<table border=\"1\" cellpadding=\"3\" cellspacing=\"0\"  style=\"border:1px solid black;border-collapse:collapse;\"><tr><td  style=\"background-color:LightGray;\"><b>Nepali&nbspLiteral</b></td><td  style=\"background-color:LightGray;\"><b>Vowel&nbsp/&nbspConsonant</b></td></tr><tr><td  style=\"background-color:Ivory;\">क</td><td  style=\"background-color:Ivory;\">C</td></tr><tr><td  style=\"background-color:AliceBlue;\">ष्</td><td  style=\"background-color:AliceBlue;\">C</td></tr><tr><td  style=\"background-color:Ivory;\">इ</td><td  style=\"background-color:Ivory;\">V</td></tr><tr><td  style=\"background-color:AliceBlue;\">त्</td><td  style=\"background-color:AliceBlue;\">C</td></tr><tr><td  style=\"background-color:Ivory;\">इ</td><td  style=\"background-color:Ivory;\">V</td></tr><tr><td  style=\"background-color:AliceBlue;\">ज्</td><td  style=\"background-color:AliceBlue;\">C</td></tr><tr><td  style=\"background-color:Ivory;\">अ</td><td  style=\"background-color:Ivory;\">V</td></tr></table>"
      ],
      "text/plain": [
       "<ipy_table.IpyTable at 0x7f8b540bee90>"
      ]
     },
     "execution_count": 13,
     "metadata": {},
     "output_type": "execute_result"
    }
   ],
   "source": [
    "word = \"क्षितिज\"\n",
    "morphemes = break_words(word)\n",
    "make_table(morphemes)\n",
    "apply_theme(\"basic\")"
   ]
  },
  {
   "cell_type": "markdown",
   "metadata": {},
   "source": [
    "# What's next?\n",
    "\n",
    "This breaking down of a word into its constituent morphemes is quite useful while doing morphological analysis of Nepali words. Personally, I see myself making a system for separation of syllables of Nepali words which can, in turn, be used for higher order analyses (including those of statistical kind). If you have any applications in mind, then go for it! Do show off your ideas or products to me though.\n",
    "\n",
    "### Acknowledgement\n",
    "\n",
    "My brother (Prasanna Koirala) helped me a little.. sort of. \n",
    "\n"
   ]
  }
 ],
 "metadata": {
  "kernelspec": {
   "display_name": "Python 2",
   "language": "python",
   "name": "python2"
  },
  "language_info": {
   "codemirror_mode": {
    "name": "ipython",
    "version": 2
   },
   "file_extension": ".py",
   "mimetype": "text/x-python",
   "name": "python",
   "nbconvert_exporter": "python",
   "pygments_lexer": "ipython2",
   "version": "2.7.6"
  }
 },
 "nbformat": 4,
 "nbformat_minor": 0
}
